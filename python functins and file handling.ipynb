{
 "cells": [
  {
   "cell_type": "markdown",
   "id": "50278c48",
   "metadata": {},
   "source": [
    "# Assignment no.3"
   ]
  },
  {
   "cell_type": "markdown",
   "id": "346f6dbd",
   "metadata": {},
   "source": [
    "# Q1: Write a function in Python to calculate and return the average of a given list of\n",
    "integers."
   ]
  },
  {
   "cell_type": "code",
   "execution_count": 1,
   "id": "52970f12",
   "metadata": {},
   "outputs": [],
   "source": [
    "#Q1:write a function in Python to calculate and return the average of a given list of integers.\n",
    "def average(a):\n",
    "    result = sum(a)/len(a)\n",
    "    return result\n"
   ]
  },
  {
   "cell_type": "code",
   "execution_count": 2,
   "id": "fe109f1d",
   "metadata": {},
   "outputs": [
    {
     "name": "stdout",
     "output_type": "stream",
     "text": [
      "2.5\n"
     ]
    }
   ],
   "source": [
    "numbers = (1,2,3,4)\n",
    "avg = average(numbers)\n",
    "print(avg)"
   ]
  },
  {
   "cell_type": "code",
   "execution_count": 3,
   "id": "285c0c6c",
   "metadata": {},
   "outputs": [],
   "source": [
    "def average(a):\n",
    "    result = sum(a)/len(a)\n",
    "    return result"
   ]
  },
  {
   "cell_type": "code",
   "execution_count": 4,
   "id": "de9e5344",
   "metadata": {},
   "outputs": [
    {
     "name": "stdout",
     "output_type": "stream",
     "text": [
      "2.5\n"
     ]
    }
   ],
   "source": [
    "numbers = (1,2,3,4)\n",
    "avg =average(numbers)\n",
    "print(avg)"
   ]
  },
  {
   "cell_type": "markdown",
   "id": "150f8ad9",
   "metadata": {},
   "source": [
    "# Q2: Write a function in Python called isIn() to check for the existence of a substring within a string returning a Boolean value.\n"
   ]
  },
  {
   "cell_type": "code",
   "execution_count": 5,
   "id": "cc4f54fc",
   "metadata": {},
   "outputs": [
    {
     "name": "stdout",
     "output_type": "stream",
     "text": [
      "true\n"
     ]
    }
   ],
   "source": [
    "string = (\"i am a student\")\n",
    "substring = (\"i am a student\")\n",
    "if substring in string:\n",
    "    print(\"true\")\n",
    "else:\n",
    "    print(\"false\")"
   ]
  },
  {
   "cell_type": "markdown",
   "id": "eda2f493",
   "metadata": {},
   "source": [
    "# Q3: Write a function in Python to demonstrate keyword arguments."
   ]
  },
  {
   "cell_type": "code",
   "execution_count": 6,
   "id": "d58125db",
   "metadata": {},
   "outputs": [],
   "source": [
    "#demonstrate  keywords arguments:\n",
    "def student_info(grades,  sub = 'art'):\n",
    "    return(grades+ ', '+sub)"
   ]
  },
  {
   "cell_type": "code",
   "execution_count": 7,
   "id": "671620d9",
   "metadata": {},
   "outputs": [
    {
     "data": {
      "text/plain": [
       "'A+, art'"
      ]
     },
     "execution_count": 7,
     "metadata": {},
     "output_type": "execute_result"
    }
   ],
   "source": [
    "student_info('A+')"
   ]
  },
  {
   "cell_type": "code",
   "execution_count": 8,
   "id": "4195da06",
   "metadata": {},
   "outputs": [
    {
     "data": {
      "text/plain": [
       "'C+, art'"
      ]
     },
     "execution_count": 8,
     "metadata": {},
     "output_type": "execute_result"
    }
   ],
   "source": [
    "student_info('C+')"
   ]
  },
  {
   "cell_type": "markdown",
   "id": "19a18826",
   "metadata": {},
   "source": [
    "# Q4: Write a script in Python to demonstrate nested functions."
   ]
  },
  {
   "cell_type": "code",
   "execution_count": 1,
   "id": "a45cb3da",
   "metadata": {},
   "outputs": [],
   "source": [
    "#nested function:\n",
    "def outer_func(string , gender):\n",
    "    \n",
    "        def inner_func():\n",
    "            if gender=='M':\n",
    "                return 'Mr.  '+ string\n",
    "            elif gender=='F': \n",
    "                return 'Ms  ' + string\n",
    "            else:   \n",
    "                print(\"wrong input\")\n",
    "\n",
    "        return inner_func()   "
   ]
  },
  {
   "cell_type": "code",
   "execution_count": 2,
   "id": "76e77e09",
   "metadata": {},
   "outputs": [
    {
     "data": {
      "text/plain": [
       "'Ms  iqra'"
      ]
     },
     "execution_count": 2,
     "metadata": {},
     "output_type": "execute_result"
    }
   ],
   "source": [
    "outer_func('iqra'  ,  'F')"
   ]
  },
  {
   "cell_type": "code",
   "execution_count": 3,
   "id": "1d302713",
   "metadata": {},
   "outputs": [
    {
     "data": {
      "text/plain": [
       "'Mr.  hamza'"
      ]
     },
     "execution_count": 3,
     "metadata": {},
     "output_type": "execute_result"
    }
   ],
   "source": [
    "outer_func('hamza' , 'M')"
   ]
  },
  {
   "cell_type": "markdown",
   "id": "f4b98c68",
   "metadata": {},
   "source": [
    "# File handling"
   ]
  },
  {
   "cell_type": "markdown",
   "id": "75dc5084",
   "metadata": {},
   "source": [
    "# Q1: Accept details of all your friends from standard input (e.g. Name, Date of\n",
    "birth, Hobbies, occupation, residence address) and store it in a binary file\n",
    "as individual records. Allow the user to list out all details of a friend, given\n",
    "his/her name.\n"
   ]
  },
  {
   "cell_type": "code",
   "execution_count": null,
   "id": "29930ed7",
   "metadata": {},
   "outputs": [],
   "source": [
    "while True:\n",
    "    choice = input(\"press 1 for data entery 2 for retrivel and done for quit\")\n",
    "    if choice =='1':\n",
    "        cnic= input(\"enter your cnic: \")\n",
    "        name = input(\"enter your name: \")\n",
    "        dob = input(\"enter your dob: \")\n",
    "        hobbies = input(\"enter your hobbies: \")\n",
    "        occupation = input(\"enter your occupation: \")\n",
    "        address = input(\"enter your address: \")\n",
    "        record = {cnic:{'name': name, 'dob': dob, 'hobbies': hobbies, 'occupation': occupation, 'address':  address}}\n",
    "        file = open('data.txt', \"a\", encoding ='utf-8')\n",
    "        file.write(str(record)+ \"\\n\")\n",
    "        file.close()\n",
    "        \n",
    "    elif choice == 'done':\n",
    "        break\n",
    "    elif choice == '2': \n",
    "        file = open(\"data.txt\", \"r\")\n",
    "        data =[]\n",
    "        for line in file. readlines():\n",
    "            line = eval(line)\n",
    "            data.append(line)\n",
    "        file.close()\n",
    "        \n",
    "        entered_cnic = input(\"enter cnic: \")\n",
    "        for record in data:\n",
    "            if entered_cnic in record.keys():\n",
    "                print(record[entered_cnic])\n",
    "                break\n",
    "            else:\n",
    "                (\"wrong input\")"
   ]
  },
  {
   "cell_type": "markdown",
   "id": "e146814b",
   "metadata": {},
   "source": [
    "# Q2: Create a text file with content as a short summary highlighting your profile\n",
    "and the interesting events that took place in your lifetime. Write a Python\n",
    "program that lists out all repetitive words (e.g 'I' in the sentence “I think\n",
    "I will go”).\n"
   ]
  },
  {
   "cell_type": "code",
   "execution_count": 18,
   "id": "58372c9c",
   "metadata": {},
   "outputs": [
    {
     "name": "stdout",
     "output_type": "stream",
     "text": [
      "I am Iqra Bhatti. I have done Pre-Medical F.sc from Bhawalpur Board. Now, I am doinng diploma from Gulberg Wise college Lahore.\n",
      " I am a student of Artificial Intelligence. We have covered syllabus up to Python Basic and OOP(Object-Orienter programming).\n",
      "{'from', 'up', 'Artificial', 'We', 'of', 'Now,', 'Lahore.\\n', 'Bhatti.', 'F.sc', 'to', 'Iqra', 'syllabus', 'and', 'college', 'Basic', 'a', 'OOP(Object-Orienter', 'Python', 'am', 'doinng', 'student', 'have', 'Gulberg', 'done', 'Wise', 'covered', 'Intelligence.', 'Board.', 'I', 'Pre-Medical', 'diploma', 'Bhawalpur', 'programming).'}\n",
      "['from', 'am', 'have', 'I']\n"
     ]
    }
   ],
   "source": [
    "file= open(\"Desktop/Ayesha.txt\", \"r\", encoding = 'utf-8')#open file and read it.\n",
    "data=file.read()\n",
    "file.close()\n",
    "print(data)\n",
    "\n",
    "all_words=data.split(\" \")\n",
    "\n",
    "unique=set(all_words)\n",
    "repeated_words = []\n",
    "print(unique)\n",
    "\n",
    "for word in unique:\n",
    "    word_count=0\n",
    "    for i in all_words:\n",
    "        if i==word:\n",
    "            word_count=word_count + 1\n",
    "            if word_count > 1:\n",
    "                repeated_words.append(i)\n",
    "                break\n",
    "print(repeated_words)"
   ]
  },
  {
   "cell_type": "markdown",
   "id": "e13677a3",
   "metadata": {},
   "source": [
    "# Q3: Write a Python script that lists out each line of a file prefixed with it’s line number.\n"
   ]
  },
  {
   "cell_type": "code",
   "execution_count": 3,
   "id": "daa850a1",
   "metadata": {},
   "outputs": [
    {
     "name": "stdout",
     "output_type": "stream",
     "text": [
      "1 :  I am Iqra Bhatti. I have done Pre-Medical F.sc from Bhawalpur Board. Now, I am doinng diploma from Gulberg Wise college Lahore.\n",
      "\n",
      "2 :   I am a student of Artificial Intelligence. We have covered syllabus up to Python Basic and OOP(Object-Orienter programming).\n"
     ]
    }
   ],
   "source": [
    "file=open(\"Desktop/Ayesha.txt\", \"r\", encoding='utf-8')\n",
    "\n",
    "count=0\n",
    "for line in file:\n",
    "        count+=1\n",
    "        print(count,\": \", line)"
   ]
  },
  {
   "cell_type": "markdown",
   "id": "14452c57",
   "metadata": {},
   "source": [
    "# Exception Handling: "
   ]
  },
  {
   "cell_type": "markdown",
   "id": "5d0a8d11",
   "metadata": {},
   "source": [
    "# Q3: Write a Python script that lists out each line of a file prefixed with it’s line number."
   ]
  },
  {
   "cell_type": "code",
   "execution_count": 1,
   "id": "c0a859cd",
   "metadata": {},
   "outputs": [
    {
     "name": "stdout",
     "output_type": "stream",
     "text": [
      "index error:list index out of range\n",
      "tried\n"
     ]
    }
   ],
   "source": [
    "#Demonstrate errors\n",
    "#index error\n",
    "my_list = [1,2,3,4]\n",
    "try: #what we want to do.\n",
    "    print(my_list[5])\n",
    "except:#if try is an error expect is used to print the error.\n",
    "    print(\"index error:list index out of range\")\n",
    "else:#if try works/is possible then else is performed\n",
    "    print(\"successful\")\n",
    "finally: #finally is printed no matter what happens i.e,orrors or not\n",
    "    print(\"tried\")"
   ]
  },
  {
   "cell_type": "code",
   "execution_count": 6,
   "id": "10c9a922",
   "metadata": {},
   "outputs": [
    {
     "name": "stdout",
     "output_type": "stream",
     "text": [
      "name error: work is not defined.\n",
      "tried\n"
     ]
    }
   ],
   "source": [
    "#name error: when name is not defined\n",
    "my_list = [1,2,3,4]\n",
    "try:\n",
    "    print(work)\n",
    "except:\n",
    "    print(\"name error: work is not defined.\")\n",
    "else:\n",
    "    print(\"this is correct\")\n",
    "finally:\n",
    "    print(\"tried\")"
   ]
  },
  {
   "cell_type": "code",
   "execution_count": 15,
   "id": "3d26161b",
   "metadata": {},
   "outputs": [
    {
     "name": "stdout",
     "output_type": "stream",
     "text": [
      "value error:'i am running' :couldnot convert string to float\n",
      "tried\n"
     ]
    }
   ],
   "source": [
    "#value error: when an opretion is not possible.\n",
    "try:\n",
    "    print(float('i am running'))\n",
    "except:\n",
    "    print('value error:\\'i am running\\' :couldnot convert string to float')\n",
    "else:\n",
    "    print('no error!')\n",
    "finally:\n",
    "    print('tried')"
   ]
  }
 ],
 "metadata": {
  "kernelspec": {
   "display_name": "Python 3",
   "language": "python",
   "name": "python3"
  },
  "language_info": {
   "codemirror_mode": {
    "name": "ipython",
    "version": 3
   },
   "file_extension": ".py",
   "mimetype": "text/x-python",
   "name": "python",
   "nbconvert_exporter": "python",
   "pygments_lexer": "ipython3",
   "version": "3.8.8"
  }
 },
 "nbformat": 4,
 "nbformat_minor": 5
}
